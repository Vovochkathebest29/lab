{
  "nbformat": 4,
  "nbformat_minor": 0,
  "metadata": {
    "colab": {
      "provenance": [],
      "authorship_tag": "ABX9TyPS2MOa4NTKC6/vDv3jxMLF",
      "include_colab_link": true
    },
    "kernelspec": {
      "name": "python3",
      "display_name": "Python 3"
    },
    "language_info": {
      "name": "python"
    }
  },
  "cells": [
    {
      "cell_type": "markdown",
      "metadata": {
        "id": "view-in-github",
        "colab_type": "text"
      },
      "source": [
        "<a href=\"https://colab.research.google.com/github/Vovochkathebest29/lab/blob/main/Untitled4.ipynb\" target=\"_parent\"><img src=\"https://colab.research.google.com/assets/colab-badge.svg\" alt=\"Open In Colab\"/></a>"
      ]
    },
    {
      "cell_type": "code",
      "execution_count": 3,
      "metadata": {
        "colab": {
          "base_uri": "https://localhost:8080/"
        },
        "id": "e32eBB9jeDqO",
        "outputId": "e0b4bb79-60da-424b-cf02-45f48d073e58"
      },
      "outputs": [
        {
          "output_type": "stream",
          "name": "stdout",
          "text": [
            "Введите число:38\n",
            "положотельное число\n"
          ]
        }
      ],
      "source": [
        "num=input('Введите число:')\n",
        "if int (num)> 0:\n",
        "  print('положотельное число')\n",
        "else:\n",
        "  print('отрицательное число')"
      ]
    },
    {
      "cell_type": "code",
      "source": [
        "pip install CoolProp\n"
      ],
      "metadata": {
        "colab": {
          "base_uri": "https://localhost:8080/"
        },
        "id": "tCWziChof73r",
        "outputId": "28973f9c-b607-44f1-8ff3-52eac768e186"
      },
      "execution_count": 4,
      "outputs": [
        {
          "output_type": "stream",
          "name": "stdout",
          "text": [
            "Looking in indexes: https://pypi.org/simple, https://us-python.pkg.dev/colab-wheels/public/simple/\n",
            "Collecting CoolProp\n",
            "  Downloading CoolProp-6.4.3.post1-cp310-cp310-manylinux_2_17_x86_64.manylinux2014_x86_64.whl (6.1 MB)\n",
            "\u001b[2K     \u001b[90m━━━━━━━━━━━━━━━━━━━━━━━━━━━━━━━━━━━━━━━━\u001b[0m \u001b[32m6.1/6.1 MB\u001b[0m \u001b[31m44.0 MB/s\u001b[0m eta \u001b[36m0:00:00\u001b[0m\n",
            "\u001b[?25hInstalling collected packages: CoolProp\n",
            "Successfully installed CoolProp-6.4.3.post1\n"
          ]
        }
      ]
    },
    {
      "cell_type": "code",
      "source": [
        "Расчет потери напора и давления в горизонтальном трубопроводе, по которому перекачивают воду"
      ],
      "metadata": {
        "id": "PEkdy6bThY_B"
      },
      "execution_count": null,
      "outputs": []
    },
    {
      "cell_type": "code",
      "source": [
        "import CoolProp.CoolProp as ct \n",
        "import numpy as np\n",
        "q=700000 # расход кг/ч\n",
        "d=300 # диаметр трубы мм\n",
        "L=500 # м\n",
        "Δ=2 # относительная шероховатость мм/м\n",
        "p=300000 # давление входа Паскаль\n",
        "T=353.15 # температура градусы Кельвина\n",
        "Fluid_name='Water'# название жидкости\n",
        "r=ct.PropsSI('D','P',p,'T',T,Fluid_name)\n",
        "print('Плотность равна=',r,'кг/м^3')\n",
        "Q=q/r\n",
        "print('Объемный расход равен=',Q,'метров кубических в час')\n",
        "F=np.pi*(d/2)**2\n",
        "print('Площадь сечения трубы равна=',F,'миллиметров квадратных')\n",
        "V=Q/F*1000\n",
        "print('скорость расхода=',V,'скорость расхода в км/ч')\n",
        "w=ct.PropsSI('viscosity','P',p,'T',T,Fluid_name)*1000\n",
        "print('Вязкость воды равна=',w,'H*мм/(м/c*м^2)')\n",
        "Re=(d*V)/(w/r)/3.6\n",
        "print(Re)\n"
      ],
      "metadata": {
        "colab": {
          "base_uri": "https://localhost:8080/"
        },
        "id": "F2jxWbwPhq9q",
        "outputId": "802d650b-4215-4225-b97b-679c7756cd62"
      },
      "execution_count": 11,
      "outputs": [
        {
          "output_type": "stream",
          "name": "stdout",
          "text": [
            "Плотность равна= 971.8794765337273 кг/м^3\n",
            "Объемный расход равен= 720.2539171797274 метров кубических в час\n",
            "Площадь сечения трубы равна= 70685.83470577035 миллиметров квадратных\n",
            "скорость расхода= 10.189508551151485 скорость расхода в км/ч\n",
            "Вязкость воды равна= 0.35410406755312757 H*мм/(м/c*м^2)\n",
            "2330523.506187265\n"
          ]
        }
      ]
    }
  ]
}